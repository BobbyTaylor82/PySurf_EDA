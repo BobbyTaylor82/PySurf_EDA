{
 "cells": [
  {
   "cell_type": "code",
   "execution_count": 5,
   "metadata": {
    "collapsed": true
   },
   "outputs": [],
   "source": [
    "import pandas as pd\n",
    "from PYbleau import PYbleau\n",
    "%matplotlib inline\n",
    "import warnings\n",
    "warnings.filterwarnings('ignore')"
   ]
  },
  {
   "cell_type": "code",
   "execution_count": 6,
   "metadata": {
    "collapsed": true
   },
   "outputs": [],
   "source": [
    "df_hawaii_measurements = pd.read_csv('data/hawaii_measurements.csv')\n",
    "df_hawaii_stations = pd.read_csv('data/hawaii_stations.csv')"
   ]
  },
  {
   "cell_type": "code",
   "execution_count": 7,
   "metadata": {
    "collapsed": true
   },
   "outputs": [],
   "source": [
    "quickeda = PYbleau()"
   ]
  },
  {
   "cell_type": "code",
   "execution_count": 8,
   "metadata": {},
   "outputs": [
    {
     "data": {
      "text/html": [
       "<style  type=\"text/css\" >\n",
       "    #T_680bbe08_ebf5_11e7_84da_a45e60bc420drow0_col1 {\n",
       "            width:  10em;\n",
       "             height:  80%;\n",
       "        }    #T_680bbe08_ebf5_11e7_84da_a45e60bc420drow1_col1 {\n",
       "            width:  10em;\n",
       "             height:  80%;\n",
       "        }    #T_680bbe08_ebf5_11e7_84da_a45e60bc420drow2_col1 {\n",
       "            width:  10em;\n",
       "             height:  80%;\n",
       "            background:  linear-gradient(90deg,#d65f5f 100.0%, transparent 0%);\n",
       "        }    #T_680bbe08_ebf5_11e7_84da_a45e60bc420drow3_col1 {\n",
       "            width:  10em;\n",
       "             height:  80%;\n",
       "        }</style>  \n",
       "<table id=\"T_680bbe08_ebf5_11e7_84da_a45e60bc420d\" > \n",
       "<thead>    <tr> \n",
       "        <th class=\"blank level0\" ></th> \n",
       "        <th class=\"col_heading level0 col0\" >Column_Names</th> \n",
       "        <th class=\"col_heading level0 col1\" >Missing_Values_Count</th> \n",
       "    </tr></thead> \n",
       "<tbody>    <tr> \n",
       "        <th id=\"T_680bbe08_ebf5_11e7_84da_a45e60bc420d\" class=\"row_heading level0 row0\" >0</th> \n",
       "        <td id=\"T_680bbe08_ebf5_11e7_84da_a45e60bc420drow0_col0\" class=\"data row0 col0\" >station</td> \n",
       "        <td id=\"T_680bbe08_ebf5_11e7_84da_a45e60bc420drow0_col1\" class=\"data row0 col1\" >0</td> \n",
       "    </tr>    <tr> \n",
       "        <th id=\"T_680bbe08_ebf5_11e7_84da_a45e60bc420d\" class=\"row_heading level0 row1\" >1</th> \n",
       "        <td id=\"T_680bbe08_ebf5_11e7_84da_a45e60bc420drow1_col0\" class=\"data row1 col0\" >date</td> \n",
       "        <td id=\"T_680bbe08_ebf5_11e7_84da_a45e60bc420drow1_col1\" class=\"data row1 col1\" >0</td> \n",
       "    </tr>    <tr> \n",
       "        <th id=\"T_680bbe08_ebf5_11e7_84da_a45e60bc420d\" class=\"row_heading level0 row2\" >2</th> \n",
       "        <td id=\"T_680bbe08_ebf5_11e7_84da_a45e60bc420drow2_col0\" class=\"data row2 col0\" >prcp</td> \n",
       "        <td id=\"T_680bbe08_ebf5_11e7_84da_a45e60bc420drow2_col1\" class=\"data row2 col1\" >1447</td> \n",
       "    </tr>    <tr> \n",
       "        <th id=\"T_680bbe08_ebf5_11e7_84da_a45e60bc420d\" class=\"row_heading level0 row3\" >3</th> \n",
       "        <td id=\"T_680bbe08_ebf5_11e7_84da_a45e60bc420drow3_col0\" class=\"data row3 col0\" >tobs</td> \n",
       "        <td id=\"T_680bbe08_ebf5_11e7_84da_a45e60bc420drow3_col1\" class=\"data row3 col1\" >0</td> \n",
       "    </tr></tbody> \n",
       "</table> "
      ],
      "text/plain": [
       "<pandas.io.formats.style.Styler at 0x11021b978>"
      ]
     },
     "execution_count": 8,
     "metadata": {},
     "output_type": "execute_result"
    }
   ],
   "source": [
    "#checking for missing values in both datasets\n",
    "quickeda.py_mv_dataframe(df_hawaii_measurements)"
   ]
  },
  {
   "cell_type": "code",
   "execution_count": 9,
   "metadata": {},
   "outputs": [
    {
     "data": {
      "text/html": [
       "<style  type=\"text/css\" >\n",
       "    #T_68173e2c_ebf5_11e7_80e1_a45e60bc420drow0_col1 {\n",
       "            width:  10em;\n",
       "             height:  80%;\n",
       "        }    #T_68173e2c_ebf5_11e7_80e1_a45e60bc420drow1_col1 {\n",
       "            width:  10em;\n",
       "             height:  80%;\n",
       "        }    #T_68173e2c_ebf5_11e7_80e1_a45e60bc420drow2_col1 {\n",
       "            width:  10em;\n",
       "             height:  80%;\n",
       "        }    #T_68173e2c_ebf5_11e7_80e1_a45e60bc420drow3_col1 {\n",
       "            width:  10em;\n",
       "             height:  80%;\n",
       "        }    #T_68173e2c_ebf5_11e7_80e1_a45e60bc420drow4_col1 {\n",
       "            width:  10em;\n",
       "             height:  80%;\n",
       "        }</style>  \n",
       "<table id=\"T_68173e2c_ebf5_11e7_80e1_a45e60bc420d\" > \n",
       "<thead>    <tr> \n",
       "        <th class=\"blank level0\" ></th> \n",
       "        <th class=\"col_heading level0 col0\" >Column_Names</th> \n",
       "        <th class=\"col_heading level0 col1\" >Missing_Values_Count</th> \n",
       "    </tr></thead> \n",
       "<tbody>    <tr> \n",
       "        <th id=\"T_68173e2c_ebf5_11e7_80e1_a45e60bc420d\" class=\"row_heading level0 row0\" >0</th> \n",
       "        <td id=\"T_68173e2c_ebf5_11e7_80e1_a45e60bc420drow0_col0\" class=\"data row0 col0\" >station</td> \n",
       "        <td id=\"T_68173e2c_ebf5_11e7_80e1_a45e60bc420drow0_col1\" class=\"data row0 col1\" >0</td> \n",
       "    </tr>    <tr> \n",
       "        <th id=\"T_68173e2c_ebf5_11e7_80e1_a45e60bc420d\" class=\"row_heading level0 row1\" >1</th> \n",
       "        <td id=\"T_68173e2c_ebf5_11e7_80e1_a45e60bc420drow1_col0\" class=\"data row1 col0\" >name</td> \n",
       "        <td id=\"T_68173e2c_ebf5_11e7_80e1_a45e60bc420drow1_col1\" class=\"data row1 col1\" >0</td> \n",
       "    </tr>    <tr> \n",
       "        <th id=\"T_68173e2c_ebf5_11e7_80e1_a45e60bc420d\" class=\"row_heading level0 row2\" >2</th> \n",
       "        <td id=\"T_68173e2c_ebf5_11e7_80e1_a45e60bc420drow2_col0\" class=\"data row2 col0\" >latitude</td> \n",
       "        <td id=\"T_68173e2c_ebf5_11e7_80e1_a45e60bc420drow2_col1\" class=\"data row2 col1\" >0</td> \n",
       "    </tr>    <tr> \n",
       "        <th id=\"T_68173e2c_ebf5_11e7_80e1_a45e60bc420d\" class=\"row_heading level0 row3\" >3</th> \n",
       "        <td id=\"T_68173e2c_ebf5_11e7_80e1_a45e60bc420drow3_col0\" class=\"data row3 col0\" >longitude</td> \n",
       "        <td id=\"T_68173e2c_ebf5_11e7_80e1_a45e60bc420drow3_col1\" class=\"data row3 col1\" >0</td> \n",
       "    </tr>    <tr> \n",
       "        <th id=\"T_68173e2c_ebf5_11e7_80e1_a45e60bc420d\" class=\"row_heading level0 row4\" >4</th> \n",
       "        <td id=\"T_68173e2c_ebf5_11e7_80e1_a45e60bc420drow4_col0\" class=\"data row4 col0\" >elevation</td> \n",
       "        <td id=\"T_68173e2c_ebf5_11e7_80e1_a45e60bc420drow4_col1\" class=\"data row4 col1\" >0</td> \n",
       "    </tr></tbody> \n",
       "</table> "
      ],
      "text/plain": [
       "<pandas.io.formats.style.Styler at 0x105646710>"
      ]
     },
     "execution_count": 9,
     "metadata": {},
     "output_type": "execute_result"
    }
   ],
   "source": [
    "#checking for missing values in both datasets\n",
    "quickeda.py_mv_dataframe(df_hawaii_stations)"
   ]
  },
  {
   "cell_type": "code",
   "execution_count": 10,
   "metadata": {},
   "outputs": [
    {
     "data": {
      "text/html": [
       "<style  type=\"text/css\" >\n",
       "    #T_688528ec_ebf5_11e7_bd7a_a45e60bc420drow0_col1 {\n",
       "            width:  10em;\n",
       "             height:  80%;\n",
       "        }    #T_688528ec_ebf5_11e7_bd7a_a45e60bc420drow1_col1 {\n",
       "            width:  10em;\n",
       "             height:  80%;\n",
       "        }    #T_688528ec_ebf5_11e7_bd7a_a45e60bc420drow2_col1 {\n",
       "            width:  10em;\n",
       "             height:  80%;\n",
       "        }    #T_688528ec_ebf5_11e7_bd7a_a45e60bc420drow3_col1 {\n",
       "            width:  10em;\n",
       "             height:  80%;\n",
       "        }</style>  \n",
       "<table id=\"T_688528ec_ebf5_11e7_bd7a_a45e60bc420d\" > \n",
       "<thead>    <tr> \n",
       "        <th class=\"blank level0\" ></th> \n",
       "        <th class=\"col_heading level0 col0\" >Column_Names</th> \n",
       "        <th class=\"col_heading level0 col1\" >Missing_Values_Count</th> \n",
       "    </tr></thead> \n",
       "<tbody>    <tr> \n",
       "        <th id=\"T_688528ec_ebf5_11e7_bd7a_a45e60bc420d\" class=\"row_heading level0 row0\" >0</th> \n",
       "        <td id=\"T_688528ec_ebf5_11e7_bd7a_a45e60bc420drow0_col0\" class=\"data row0 col0\" >station</td> \n",
       "        <td id=\"T_688528ec_ebf5_11e7_bd7a_a45e60bc420drow0_col1\" class=\"data row0 col1\" >0</td> \n",
       "    </tr>    <tr> \n",
       "        <th id=\"T_688528ec_ebf5_11e7_bd7a_a45e60bc420d\" class=\"row_heading level0 row1\" >1</th> \n",
       "        <td id=\"T_688528ec_ebf5_11e7_bd7a_a45e60bc420drow1_col0\" class=\"data row1 col0\" >date</td> \n",
       "        <td id=\"T_688528ec_ebf5_11e7_bd7a_a45e60bc420drow1_col1\" class=\"data row1 col1\" >0</td> \n",
       "    </tr>    <tr> \n",
       "        <th id=\"T_688528ec_ebf5_11e7_bd7a_a45e60bc420d\" class=\"row_heading level0 row2\" >2</th> \n",
       "        <td id=\"T_688528ec_ebf5_11e7_bd7a_a45e60bc420drow2_col0\" class=\"data row2 col0\" >prcp</td> \n",
       "        <td id=\"T_688528ec_ebf5_11e7_bd7a_a45e60bc420drow2_col1\" class=\"data row2 col1\" >0</td> \n",
       "    </tr>    <tr> \n",
       "        <th id=\"T_688528ec_ebf5_11e7_bd7a_a45e60bc420d\" class=\"row_heading level0 row3\" >3</th> \n",
       "        <td id=\"T_688528ec_ebf5_11e7_bd7a_a45e60bc420drow3_col0\" class=\"data row3 col0\" >tobs</td> \n",
       "        <td id=\"T_688528ec_ebf5_11e7_bd7a_a45e60bc420drow3_col1\" class=\"data row3 col1\" >0</td> \n",
       "    </tr></tbody> \n",
       "</table> "
      ],
      "text/plain": [
       "<pandas.io.formats.style.Styler at 0x1057a0c50>"
      ]
     },
     "execution_count": 10,
     "metadata": {},
     "output_type": "execute_result"
    }
   ],
   "source": [
    "#drop missing values in df_hawaii_measurements dataframe\n",
    "df_hawaii_measurments_drop = df_hawaii_measurements.dropna()\n",
    "\n",
    "#check for to see if all nan values have been dropped\n",
    "#There were no duplicates in the df_hawaii_meeasurments dataset\n",
    "quickeda.py_mv_dataframe(df_hawaii_measurments_drop)"
   ]
  },
  {
   "cell_type": "markdown",
   "metadata": {},
   "source": [
    "<h3>Save Both dataframes as CSV files</h3>"
   ]
  },
  {
   "cell_type": "code",
   "execution_count": 11,
   "metadata": {},
   "outputs": [],
   "source": [
    "df_hawaii_measurments_drop.to_csv('clean_hawaii_measurments.csv',index=False)\n",
    "df_hawaii_stations.to_csv('clean_hawaii_stations.csv',index=False)"
   ]
  },
  {
   "cell_type": "code",
   "execution_count": null,
   "metadata": {
    "collapsed": true
   },
   "outputs": [],
   "source": []
  }
 ],
 "metadata": {
  "kernelspec": {
   "display_name": "Python 3",
   "language": "python",
   "name": "python3"
  },
  "language_info": {
   "codemirror_mode": {
    "name": "ipython",
    "version": 3
   },
   "file_extension": ".py",
   "mimetype": "text/x-python",
   "name": "python",
   "nbconvert_exporter": "python",
   "pygments_lexer": "ipython3",
   "version": "3.6.1"
  }
 },
 "nbformat": 4,
 "nbformat_minor": 2
}
